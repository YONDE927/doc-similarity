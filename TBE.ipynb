{
 "cells": [
  {
   "cell_type": "code",
   "execution_count": 1,
   "id": "01c88d5e",
   "metadata": {},
   "outputs": [],
   "source": [
    "import sys\n",
    "sys.path.append(\"./src\")\n",
    "from agbert import EnBertEmb, JaBertEmb"
   ]
  },
  {
   "cell_type": "markdown",
   "id": "651c53c7-3efb-428f-813e-b3d017661ca3",
   "metadata": {},
   "source": [
    "## 英語　類似分検索"
   ]
  },
  {
   "cell_type": "code",
   "execution_count": 2,
   "id": "49b32941-9bcd-4415-bfa9-30a57161deeb",
   "metadata": {
    "tags": []
   },
   "outputs": [],
   "source": [
    "#オブジェクトの初期化\n",
    "EBE = EnBertEmb()"
   ]
  },
  {
   "cell_type": "code",
   "execution_count": 3,
   "id": "fc61aa0e-1ace-4525-afd8-19c525d2b1b6",
   "metadata": {},
   "outputs": [],
   "source": [
    "#文字列リストの用意\n",
    "docs = [\"I ate an apple\",\n",
    "        \"You ate a banana\",\n",
    "        \"Ukrainian ambushed on Russian tanks\",\n",
    "        \"Drone footage shows Russian tank column retreat after artillery\",\n",
    "        \"GNU is not unix\",\n",
    "        \"Who are you?\",\n",
    "        \"Where you are?\"\n",
    "       ]"
   ]
  },
  {
   "cell_type": "code",
   "execution_count": 4,
   "id": "81e0215b-226e-434a-ac25-26d860bb0f70",
   "metadata": {
    "tags": []
   },
   "outputs": [
    {
     "name": "stderr",
     "output_type": "stream",
     "text": [
      "100%|███████████████████████████████████████████████████████████████████████████████████████| 7/7 [00:00<00:00, 76.63it/s]\n"
     ]
    }
   ],
   "source": [
    "#文書の登録\n",
    "matrix = EBE.register(docs)"
   ]
  },
  {
   "cell_type": "code",
   "execution_count": 5,
   "id": "1e21eed3-97b5-4510-a49f-3aa3e65f7313",
   "metadata": {
    "tags": []
   },
   "outputs": [
    {
     "name": "stdout",
     "output_type": "stream",
     "text": [
      "0.022360 sec for search\n"
     ]
    },
    {
     "data": {
      "text/plain": [
       "['Drone footage shows Russian tank column retreat after artillery',\n",
       " 'Ukrainian ambushed on Russian tanks',\n",
       " 'Where you are?',\n",
       " 'GNU is not unix',\n",
       " 'Who are you?',\n",
       " 'You ate a banana',\n",
       " 'I ate an apple']"
      ]
     },
     "execution_count": 5,
     "metadata": {},
     "output_type": "execute_result"
    }
   ],
   "source": [
    "#類似分検索\n",
    "EBE.similardoc(docs[3])"
   ]
  },
  {
   "cell_type": "code",
   "execution_count": 6,
   "id": "bd201123-b1b3-4c32-af27-867e1b1f51e3",
   "metadata": {},
   "outputs": [],
   "source": [
    "#計算済み特徴量(行列)&文書の保存\n",
    "EBE.save()"
   ]
  },
  {
   "cell_type": "code",
   "execution_count": 7,
   "id": "875d8765-49d4-4480-858b-c962d42efc91",
   "metadata": {},
   "outputs": [],
   "source": [
    "#計算済み特徴量(行列)&文書の読み込み\n",
    "EBE.load()"
   ]
  },
  {
   "cell_type": "markdown",
   "id": "93542fa6-503a-44e6-8685-6c28510e57c3",
   "metadata": {},
   "source": [
    "## 日本語　類似分検索"
   ]
  },
  {
   "cell_type": "code",
   "execution_count": 8,
   "id": "d67b3055",
   "metadata": {},
   "outputs": [],
   "source": [
    "#オブジェクトの初期化\n",
    "JBE = JaBertEmb()"
   ]
  },
  {
   "cell_type": "code",
   "execution_count": 9,
   "id": "f83e3924",
   "metadata": {},
   "outputs": [],
   "source": [
    "#文字列リストの用意\n",
    "docs = [\"向こうの店のほうが安いからこっちでは買わない。\",\n",
    "        \"この店は良い品を置いている。\",\n",
    "        \"ここで売っている物は質がいい。\",\n",
    "        \"自然言語処理系のお仕事の報酬は最低賃金以下だから労働基準法に触れるかもしれない。\",\n",
    "        \"開会式で大声出して暴れたら、民法90条の公序良俗関係で訴えられるかも\",\n",
    "        \"自動運転車が天下一品の看板を赤信号と認識して道路交通法違反となる可能性がある。\",\n",
    "        \"アメリカの法律と日本の法律は違うのか。\",\n",
    "        \"郷に入っては郷に従え\",\n",
    "        \"長いものに巻かれる\",\n",
    "        \"出る杭は伸ばす\"\n",
    "       ]"
   ]
  },
  {
   "cell_type": "code",
   "execution_count": 10,
   "id": "3123b954",
   "metadata": {
    "tags": []
   },
   "outputs": [
    {
     "name": "stderr",
     "output_type": "stream",
     "text": [
      "100%|█████████████████████████████████████████████████████████████████████████████████████| 10/10 [00:00<00:00, 14.17it/s]\n"
     ]
    }
   ],
   "source": [
    "#文書の登録\n",
    "matrix = JBE.register(docs)"
   ]
  },
  {
   "cell_type": "code",
   "execution_count": 11,
   "id": "3ebadeee",
   "metadata": {},
   "outputs": [
    {
     "name": "stderr",
     "output_type": "stream",
     "text": [
      "100%|███████████████████████████████████████████████████████████████████████████████████████| 1/1 [00:00<00:00, 10.10it/s]"
     ]
    },
    {
     "name": "stdout",
     "output_type": "stream",
     "text": [
      "0.102025 sec for search\n"
     ]
    },
    {
     "name": "stderr",
     "output_type": "stream",
     "text": [
      "\n"
     ]
    },
    {
     "data": {
      "text/plain": [
       "['自然言語処理系のお仕事の報酬は最低賃金以下だから労働基準法に触れるかもしれない。',\n",
       " '自動運転車が天下一品の看板を赤信号と認識して道路交通法違反となる可能性がある。',\n",
       " '開会式で大声出して暴れたら、民法90条の公序良俗関係で訴えられるかも',\n",
       " 'アメリカの法律と日本の法律は違うのか。',\n",
       " '向こうの店のほうが安いからこっちでは買わない。',\n",
       " 'ここで売っている物は質がいい。',\n",
       " 'この店は良い品を置いている。',\n",
       " '出る杭は伸ばす',\n",
       " '郷に入っては郷に従え',\n",
       " '長いものに巻かれる']"
      ]
     },
     "execution_count": 11,
     "metadata": {},
     "output_type": "execute_result"
    }
   ],
   "source": [
    "#類似分検索\n",
    "JBE.similardoc(docs[3])"
   ]
  },
  {
   "cell_type": "code",
   "execution_count": 12,
   "id": "79c7612a",
   "metadata": {},
   "outputs": [],
   "source": [
    "#計算済み特徴量(行列)&文書の保存\n",
    "JBE.save()"
   ]
  },
  {
   "cell_type": "code",
   "execution_count": 13,
   "id": "f37017a1-cc3d-486f-be6e-20a8ebe06b25",
   "metadata": {},
   "outputs": [],
   "source": [
    "#計算済み特徴量(行列)&文書の読み込み\n",
    "JBE.load()"
   ]
  }
 ],
 "metadata": {
  "kernelspec": {
   "display_name": "Python 3 (ipykernel)",
   "language": "python",
   "name": "python3"
  },
  "language_info": {
   "codemirror_mode": {
    "name": "ipython",
    "version": 3
   },
   "file_extension": ".py",
   "mimetype": "text/x-python",
   "name": "python",
   "nbconvert_exporter": "python",
   "pygments_lexer": "ipython3",
   "version": "3.9.7"
  }
 },
 "nbformat": 4,
 "nbformat_minor": 5
}
